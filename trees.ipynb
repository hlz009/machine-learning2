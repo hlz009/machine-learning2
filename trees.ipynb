{
 "cells": [
  {
   "cell_type": "code",
   "execution_count": 36,
   "metadata": {},
   "outputs": [
    {
     "name": "stdout",
     "output_type": "stream",
     "text": [
      "{'no surfacing': {0: 'no', 1: {'flippers': {0: 'no', 1: 'yes'}}}}\n"
     ]
    }
   ],
   "source": [
    "from math import log\n",
    "\n",
    "#计算给定值的熵\n",
    "def calcShannonEnt(dataSet):\n",
    "    numEntries = len(dataSet)\n",
    "    labelCounts = {}\n",
    "    for featVec in dataSet:\n",
    "        currentLabel = featVec[-1]\n",
    "        labelCounts[currentLabel] = labelCounts.get(currentLabel, 0) + 1\n",
    "#         if currentLabel not in labelCounts.keys():\n",
    "#             labelCounts[countLabel] = 0\n",
    "#         labelCounts[curentLabel] += 1\n",
    "    shannonEnt = 0.0\n",
    "    for key in labelCounts:\n",
    "        prob = float(labelCounts[key])/numEntries\n",
    "        shannonEnt -= prob * log(prob, 2)\n",
    "    return shannonEnt\n",
    "\n",
    "def createDataSet():\n",
    "    dataSet = [[1, 1, 'yes'],\n",
    "               [1, 1, 'yes'],\n",
    "               [1, 0, 'no'],\n",
    "               [0, 1, 'no'],\n",
    "               [0, 1, 'no'],\n",
    "              ]\n",
    "    labels = ['no surfacing', 'flippers']\n",
    "    return dataSet, labels\n",
    "\n",
    "dataSet, labels = createDataSet()\n",
    "# shannonEnt = calcShannonEnt(dataSet)\n",
    "# print(shannonEnt)\n",
    "\n",
    "\n",
    "#划分数据集\n",
    "def splitDataSet(dataSet, axis, value):\n",
    "    retDataSet = []\n",
    "    for featVec in dataSet:\n",
    "        if featVec[axis] == value:\n",
    "            reducedFeatVec = featVec[:axis]\n",
    "            reducedFeatVec.extend(featVec[axis+1:])\n",
    "            retDataSet.append(reducedFeatVec)\n",
    "    return retDataSet\n",
    "\n",
    "# print(dataSet)\n",
    "# x = splitDataSet(dataSet, 0, 1)\n",
    "# print(x)\n",
    "\n",
    "'''\n",
    "(1)数据必须是列表元素组成的列表，所有列表元素都具有相同的长度\n",
    "(2)数据的最后一列或者每个实例的最后一个元素是该实例的类别标签\n",
    "(3)返回的结果是第几个特征值\n",
    "'''\n",
    "def chooseBestFeatureToSplit(dataSet):\n",
    "    numFeatures = len(dataSet[0]) - 1 #遍历时最后一个元素是类别，不算在内\n",
    "    baseEntropy = calcShannonEnt(dataSet)\n",
    "    bestInfoGain = 0.0\n",
    "    baseFeature = -1\n",
    "    for i in range(numFeatures):\n",
    "        featList = [example[i] for example in dataSet]\n",
    "        uniqueVals = set(featList)\n",
    "        newEntropy = 0.0\n",
    "        for value in uniqueVals:\n",
    "            subDataSet = splitDataSet(dataSet, i, value)\n",
    "            prob = len(subDataSet)/float(len(dataSet))\n",
    "            newEntropy += prob*calcShannonEnt(subDataSet)\n",
    "        infoGain = baseEntropy - newEntropy\n",
    "        if infoGain > bestInfoGain:\n",
    "            bestInfoGain = infoGain\n",
    "            bestFeature = i\n",
    "    return bestFeature\n",
    "\n",
    "def majorityCnt(classList):\n",
    "    classCount = {}\n",
    "    for vote in classList:\n",
    "        classCount[vote] = classCount.get(vote, 0) + 1\n",
    "    sortedClassCount = sorted(classCount.iteritems(), key=operator.itemgetter(1), reverse=True)\n",
    "    return sortedClassCount[0][0]\n",
    "\n",
    "def createTree(dataSet, labels):\n",
    "    classList = [example[-1] for example in dataSet]\n",
    "    '''\n",
    "    停止条件（1）\n",
    "    所有的类标签完全相同，表明可以直接归为一类，已划分好\n",
    "    '''\n",
    "    if classList.count(classList[0]) == len(classList):\n",
    "        return classList[0]\n",
    "    '''\n",
    "    停止条件（2）\n",
    "    遍历完了所有的特征，仍不能将数据集划分成仅包含唯一类别的分组，\n",
    "    这里我们挑选出现次数最多的类别\n",
    "    '''    \n",
    "    if len(dataSet[0]) == 1:#元素已是最后一个列表\n",
    "        return majorityCnt(classList)\n",
    "    bestFeat = chooseBestFeatureToSplit(dataSet)\n",
    "    bestFeatLabel = labels[bestFeat]\n",
    "    myTree = {bestFeatLabel:{}} #这里树被声明成一个字典，也可以是其他数据结构\n",
    "    del(labels[bestFeat])\n",
    "    featValues = [example[bestFeat] for example in dataSet]\n",
    "    uniqueVals = set(featValues)\n",
    "    for value in uniqueVals:\n",
    "#         subLabels = labels[:]\n",
    "        subLabels = labels\n",
    "        myTree[bestFeatLabel][value] = createTree(\n",
    "            splitDataSet(dataSet, bestFeat, value), subLabels)\n",
    "    return myTree\n",
    "\n",
    "# dataSet, labels = createDataSet()\n",
    "myTree = createTree(dataSet, labels)\n",
    "print(myTree)"
   ]
  },
  {
   "cell_type": "code",
   "execution_count": 27,
   "metadata": {},
   "outputs": [
    {
     "name": "stdout",
     "output_type": "stream",
     "text": [
      "[[1, 2, 3, 4], [5, 6, 7, 8], [9, 10, 11, 12]]\n"
     ]
    }
   ],
   "source": [
    "datas = [[1,2,3,4], [5,6,7,8], [9,10,11,12]]\n",
    "# for i in datas:\n",
    "#     print(i)\n",
    "# for i in range(3):\n",
    "#     xdata = [data[i] for data in datas]\n",
    "#     xxxx = set(xdata)\n",
    "#     print(xdata)\n",
    "print(datas[:])"
   ]
  },
  {
   "cell_type": "code",
   "execution_count": 37,
   "metadata": {},
   "outputs": [
    {
     "data": {
      "image/png": "[encoded data removed]",
      "text/plain": [
       "<Figure size 432x288 with 1 Axes>"
      ]
     },
     "metadata": {},
     "output_type": "display_data"
    }
   ],
   "source": [
    "#-*- coding:utf-8 –*-\n",
    "\n",
    "'''\n",
    "使用文本注解绘制树节点\n",
    "'''\n",
    "import matplotlib\n",
    "import matplotlib.pyplot as plt\n",
    "%matplotlib inline  \n",
    "\n",
    "zhfont1 = matplotlib.font_manager.FontProperties(fname=\"../SimHei.ttf\") \n",
    "\n",
    "'''\n",
    "定义文本框和箭头格式\n",
    "'''\n",
    "decisionNode = dict(boxstyle=\"sawtooth\", fc=\"0.8\")\n",
    "leafNode = dict(boxstyle=\"round4\", fc=\"0.8\")\n",
    "arrow_args = dict(arrowstyle=\"<-\")\n",
    "\n",
    "'''\n",
    "绘制带箭头的注解\n",
    "'''\n",
    "def plotNode(nodeTxt, centerPt, parentPt, nodeType):\n",
    "    createPlot.axl.annotate(nodeTxt, xy = parentPt, xycoords = \"axes fraction\",\n",
    "                           xytext = centerPt, textcoords = \"axes fraction\", \n",
    "                           va = \"center\", ha = \"center\", bbox = nodeType, arrowprops=arrow_args)\n",
    "\n",
    "def createPlot():\n",
    "    fig = plt.figure(1, facecolor = \"white\")\n",
    "    fig.clf()\n",
    "    createPlot.axl = plt.subplot(111, frameon=False)\n",
    "    plotNode('Decision Node', (0.5, 0.8), (0,0), decisionNode)\n",
    "    plotNode('Leaf Node', (0.1, 0.1), (0.5, 0.8), leafNode)\n",
    "    plt.show()\n",
    "\n",
    "createPlot()\n",
    "# help(plotNode)\n",
    "# plotNode(nodeTxt, centerPt, parentPt, nodeType)"
   ]
  },
  {
   "cell_type": "code",
   "execution_count": 38,
   "metadata": {},
   "outputs": [
    {
     "name": "stdout",
     "output_type": "stream",
     "text": [
      "叶子节点 3\n",
      "树深度 2\n"
     ]
    }
   ],
   "source": [
    "'''\n",
    "获取叶子节点数目\n",
    "'''\n",
    "def getNumLeafs(myTree):\n",
    "    numLeafs = 0\n",
    "    firstStr = list(myTree.keys())[0]\n",
    "    secondDict = myTree[firstStr]\n",
    "    for key in secondDict.keys():\n",
    "        if type(secondDict[key]) == dict:#测试数据类型是dict\n",
    "            numLeafs += getNumLeafs(secondDict[key])\n",
    "        else:\n",
    "            numLeafs += 1 #此时已到底了\n",
    "    return numLeafs\n",
    "\n",
    "'''\n",
    "获取树的层数\n",
    "'''\n",
    "def getTreeDepth(myTree):\n",
    "    maxDepth = 0\n",
    "    firstStr = list(myTree.keys())[0]\n",
    "    secondDict = myTree[firstStr]\n",
    "    for key in secondDict.keys():\n",
    "        if type(secondDict[key]) == dict:#测试数据类型是dict\n",
    "            thisDepth = 1 + getTreeDepth(secondDict[key])\n",
    "        else:\n",
    "            thisDepth = 1  #此时已到底了\n",
    "        if thisDepth > maxDepth:\n",
    "            maxDepth = thisDepth\n",
    "    return maxDepth\n",
    "\n",
    "\n",
    "print(\"叶子节点\", getNumLeafs(myTree))\n",
    "print(\"树深度\", getTreeDepth(myTree))"
   ]
  },
  {
   "cell_type": "code",
   "execution_count": 39,
   "metadata": {},
   "outputs": [
    {
     "name": "stdout",
     "output_type": "stream",
     "text": [
      "plotTree.yOff的尺寸0 0.5\n",
      "plotTree.yOff的尺寸0 0.0\n",
      "plotTree.yOff的尺寸1 0.5\n",
      "plotTree.yOff的尺寸0 0.0\n",
      "plotTree.yOff的尺寸1 0.5\n",
      "plotTree.yOff的尺寸1 1.0\n"
     ]
    },
    {
     "data": {
      "image/png": "[encoded data removed]",
      "text/plain": [
       "<Figure size 432x288 with 1 Axes>"
      ]
     },
     "metadata": {},
     "output_type": "display_data"
    }
   ],
   "source": [
    "'''\n",
    "画树\n",
    "'''\n",
    "# import pdb\n",
    "# pdb.set_trace()\n",
    "\n",
    "'''\n",
    "在父子节点中填充文本信息，就是箭头中间写的0 or 1\n",
    "'''\n",
    "def plotMidText(centerPt, parentPt, txtString):\n",
    "    xMid = (parentPt[0] + centerPt[0])/2.0\n",
    "    yMid = (parentPt[1] + centerPt[1])/2.0\n",
    "    createPlot.axl.text(xMid, yMid, txtString)\n",
    "\n",
    "'''\n",
    "    树大小为长1宽1. 树根据叶子节点个数和树的高度，进行重画\n",
    "    画的顺序 类似于二叉树的先序遍历  根左右\n",
    "'''\n",
    "def plotTree(myTree, parentPt, nodeText):\n",
    "    numLeafs = getNumLeafs(myTree) # 相当于计算树的宽\n",
    "    depth = getTreeDepth(myTree)  # 相当于计算树的高\n",
    "    firstStr = list(myTree.keys())[0]\n",
    "    centerPt = (plotTree.xOff + (1.0 + float(numLeafs))/2.0/plotTree.totalW,\n",
    "               plotTree.yOff)\n",
    "    plotMidText(centerPt, parentPt, nodeText)\n",
    "    plotNode(firstStr, centerPt, parentPt, decisionNode)\n",
    "    secondDict = myTree[firstStr]\n",
    "    plotTree.yOff = plotTree.yOff - 1.0/plotTree.totalD\n",
    "    print(\"plotTree.yOff的尺寸0\", plotTree.yOff)\n",
    "    for key in secondDict.keys():\n",
    "        if type(secondDict[key]) == dict:\n",
    "            plotTree(secondDict[key], centerPt, str(key))\n",
    "        else:\n",
    "            plotTree.xOff = plotTree.xOff + 1.0/plotTree.totalW\n",
    "            plotNode(secondDict[key], (plotTree.xOff, plotTree.yOff), \n",
    "                    centerPt, leafNode)\n",
    "            plotMidText((plotTree.xOff, plotTree.yOff), centerPt, str(key))\n",
    "    plotTree.yOff = plotTree.yOff + 1.0/plotTree.totalD  #加回原来的高度\n",
    "    print(\"plotTree.yOff的尺寸1\", plotTree.yOff)\n",
    "\n",
    "def createPlot(inTree):\n",
    "    fig = plt.figure(1, facecolor = \"white\")\n",
    "    fig.clf()\n",
    "    axprops = dict(xticks=[], yticks=[])\n",
    "    '''\n",
    "    **axprops关闭坐标轴配置\n",
    "    也可以写成\n",
    "    plt.axis('off') #关闭坐标轴，\n",
    "    或者，关闭坐标轴 x，y \n",
    "    plt.xticks([])\n",
    "    plt.yticks([])\n",
    "    '''\n",
    "    createPlot.axl = plt.subplot(111, frameon = False, **axprops)\n",
    "#     print(plt.xticks)\n",
    "#     createPlot.axl = plt.subplot(111, frameon = False)\n",
    "    #定义 plotTree 的全局变量\n",
    "    plotTree.totalW = float(getNumLeafs(inTree))\n",
    "    plotTree.totalD = float(getTreeDepth(inTree))\n",
    "    plotTree.xOff = -0.5/plotTree.totalW\n",
    "    plotTree.yOff = 1.0\n",
    "    plotTree(inTree, (0.5, 1.0), \"\")\n",
    "    plt.show()\n",
    "\n",
    "myTree[\"no surfacing\"][2] = {\"maybe\":{\"0\":\"maybe1\",\"1\":\"maybe2\"}}\n",
    "createPlot(myTree)"
   ]
  },
  {
   "cell_type": "code",
   "execution_count": 41,
   "metadata": {},
   "outputs": [
    {
     "data": {
      "text/plain": [
       "'yes'"
      ]
     },
     "execution_count": 41,
     "metadata": {},
     "output_type": "execute_result"
    }
   ],
   "source": [
    "'''\n",
    "分类，\n",
    "inputTree 决策树\n",
    "featLabels 特征值标签\n",
    "testVec 输入要测试验证的特征值数据\n",
    "'''\n",
    "def classify(inputTree, featLabels, testVec):\n",
    "    firstStr = list(inputTree.keys())[0]\n",
    "    secondDict = inputTree[firstStr]\n",
    "    featIndex = featLabels.index(firstStr)\n",
    "    for key in secondDict.keys():\n",
    "        if testVec[featIndex] == key:\n",
    "            if type(secondDict[key]) == dict:\n",
    "                classLabel = classify(secondDict[key], featLabels, testVec)\n",
    "            else:\n",
    "                classLabel = secondDict[key]\n",
    "    return classLabel\n",
    "\n",
    "dataSet, labels = createDataSet()\n",
    "# labels\n",
    "classify(myTree, labels, [1,1])"
   ]
  },
  {
   "cell_type": "code",
   "execution_count": 44,
   "metadata": {},
   "outputs": [
    {
     "data": {
      "text/plain": [
       "{'no surfacing': {0: 'no',\n",
       "  1: {'flippers': {0: 'no', 1: 'yes'}},\n",
       "  2: {'maybe': {'0': 'maybe1', '1': 'maybe2'}}}}"
      ]
     },
     "execution_count": 44,
     "metadata": {},
     "output_type": "execute_result"
    }
   ],
   "source": [
    "import pickle\n",
    "'''\n",
    "序列化对象\n",
    "'''\n",
    "def storeTree(inputTree, filename):\n",
    "    fw = open(filename, 'wb')\n",
    "    pickle.dump(inputTree, fw)\n",
    "    fw.close()\n",
    "\n",
    "def grabeTree(filename):\n",
    "    fr = open(filename, 'rb')\n",
    "    return pickle.load(fr)\n",
    "\n",
    "storeTree(myTree, 'classifierStorage.txt')\n",
    "grabeTree('classifierStorage.txt')"
   ]
  },
  {
   "cell_type": "code",
   "execution_count": null,
   "metadata": {},
   "outputs": [],
   "source": []
  }
 ],
 "metadata": {
  "kernelspec": {
   "display_name": "Python 3",
   "language": "python",
   "name": "python3"
  },
  "language_info": {
   "codemirror_mode": {
    "name": "ipython",
    "version": 3
   },
   "file_extension": ".py",
   "mimetype": "text/x-python",
   "name": "python",
   "nbconvert_exporter": "python",
   "pygments_lexer": "ipython3",
   "version": "3.7.1"
  }
 },
 "nbformat": 4,
 "nbformat_minor": 2
}
